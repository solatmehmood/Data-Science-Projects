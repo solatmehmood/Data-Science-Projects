{
 "cells": [
  {
   "metadata": {},
   "cell_type": "markdown",
   "source": [
    "## About the Project\n",
    "#### Daily Life Tracker Project\n",
    "Analyze how daily habits like sleep, work, and screen time affect productivity.\n"
   ],
   "id": "f398829c6570c980"
  },
  {
   "metadata": {},
   "cell_type": "markdown",
   "source": "### import the libraries",
   "id": "e756f22084a0c837"
  },
  {
   "metadata": {
    "ExecuteTime": {
     "end_time": "2025-05-13T10:16:18.335307Z",
     "start_time": "2025-05-13T10:16:18.316747Z"
    }
   },
   "cell_type": "code",
   "source": [
    "import pandas as pd\n",
    "import numpy as np\n",
    "import matplotlib.pyplot as plt"
   ],
   "id": "9e20d15022107d76",
   "outputs": [],
   "execution_count": 60
  },
  {
   "metadata": {},
   "cell_type": "markdown",
   "source": "###  Load the Dataset",
   "id": "b4ad755235345950"
  },
  {
   "metadata": {
    "ExecuteTime": {
     "end_time": "2025-05-13T10:16:18.392689Z",
     "start_time": "2025-05-13T10:16:18.369456Z"
    }
   },
   "cell_type": "code",
   "source": [
    "df= pd.read_csv('daily_life_data.csv')\n",
    "print(df)"
   ],
   "id": "cb6ce730bd43fb14",
   "outputs": [
    {
     "name": "stdout",
     "output_type": "stream",
     "text": [
      "          Date  Sleep Hours  Work Hours  Screen Time  Productivity Score\n",
      "0   2025-01-01          8.1         6.4          7.9                  65\n",
      "1   2025-01-02          6.3         8.8          4.1                  94\n",
      "2   2025-01-03          8.0         7.4          5.3                  84\n",
      "3   2025-01-04          8.7         8.4          4.7                  71\n",
      "4   2025-01-05          7.7         6.7          6.8                  71\n",
      "..         ...          ...         ...          ...                 ...\n",
      "85  2025-03-27          7.4         9.7          6.0                  82\n",
      "86  2025-03-28          8.6         6.3          5.4                  86\n",
      "87  2025-03-29          8.0         6.5          4.2                  75\n",
      "88  2025-03-30          8.5         7.8          4.6                  79\n",
      "89  2025-03-31          6.4        10.0          7.0                  86\n",
      "\n",
      "[90 rows x 5 columns]\n"
     ]
    }
   ],
   "execution_count": 61
  },
  {
   "metadata": {},
   "cell_type": "markdown",
   "source": "### Convert Date Column",
   "id": "1ced7f3acf1e6656"
  },
  {
   "metadata": {
    "ExecuteTime": {
     "end_time": "2025-05-13T10:16:18.413023Z",
     "start_time": "2025-05-13T10:16:18.392689Z"
    }
   },
   "cell_type": "code",
   "source": [
    "# Convert the 'Date' column to datetime format\n",
    "# ---------------------------------------------\n",
    "df['Date'] = pd.to_datetime(df['Date'])  # Converting 'Date' column to datetime\n",
    "print(\"Date column is converted to datetime format successfully\")  # Print confirmation message\n"
   ],
   "id": "91f77cdcf0646455",
   "outputs": [
    {
     "name": "stdout",
     "output_type": "stream",
     "text": [
      "Date column is converted to datetime format successfully\n"
     ]
    }
   ],
   "execution_count": 62
  },
  {
   "metadata": {},
   "cell_type": "markdown",
   "source": "### Initial Data Overview",
   "id": "3a8af405dbd53410"
  },
  {
   "metadata": {
    "ExecuteTime": {
     "end_time": "2025-05-13T10:16:18.484556Z",
     "start_time": "2025-05-13T10:16:18.443763Z"
    }
   },
   "cell_type": "code",
   "source": [
    "# Basic Statistical Summary and Data Information\n",
    "# ------------------------------------------------\n",
    "# Get statistical summary of the data (count, mean, min, 25%, max, std, etc.)\n",
    "df.describe()  # Displays summary statistics for numeric columns\n",
    "\n",
    "# Get information about the DataFrame (columns, data types, non-null values)\n",
    "df.info()  # Provides information on the DataFrame's structure (data types, non-null count, etc.)\n",
    "\n",
    "# Check for missing values in each column\n",
    "df.isnull().sum()  # Counts the number of missing values in each column\n"
   ],
   "id": "35fff753343cd0c7",
   "outputs": [
    {
     "name": "stdout",
     "output_type": "stream",
     "text": [
      "<class 'pandas.core.frame.DataFrame'>\n",
      "RangeIndex: 90 entries, 0 to 89\n",
      "Data columns (total 5 columns):\n",
      " #   Column              Non-Null Count  Dtype         \n",
      "---  ------              --------------  -----         \n",
      " 0   Date                90 non-null     datetime64[ns]\n",
      " 1   Sleep Hours         90 non-null     float64       \n",
      " 2   Work Hours          90 non-null     float64       \n",
      " 3   Screen Time         90 non-null     float64       \n",
      " 4   Productivity Score  90 non-null     int64         \n",
      "dtypes: datetime64[ns](1), float64(3), int64(1)\n",
      "memory usage: 3.6 KB\n"
     ]
    },
    {
     "data": {
      "text/plain": [
       "Date                  0\n",
       "Sleep Hours           0\n",
       "Work Hours            0\n",
       "Screen Time           0\n",
       "Productivity Score    0\n",
       "dtype: int64"
      ]
     },
     "execution_count": 63,
     "metadata": {},
     "output_type": "execute_result"
    }
   ],
   "execution_count": 63
  },
  {
   "metadata": {},
   "cell_type": "markdown",
   "source": "###  Weekly Averages",
   "id": "4dcf414b8eeeb514"
  },
  {
   "metadata": {
    "ExecuteTime": {
     "end_time": "2025-05-13T10:16:18.583345Z",
     "start_time": "2025-05-13T10:16:18.564776Z"
    }
   },
   "cell_type": "code",
   "source": [
    "# Setting 'Date' as the Index and Resampling Data for Weekly Averages\n",
    "# -------------------------------------------------------------------\n",
    "# Ensure 'Date' is a column in the DataFrame and set it as the index\n",
    "df.set_index('Date', inplace=True)  # Correct syntax to set 'Date' column as the index\n",
    "\n",
    "# Resample the data by week and calculate the mean for each week\n",
    "weekly_avg = df.resample('W').mean()  # Resample data by week and compute weekly averages\n",
    "\n",
    "# Print the weekly average data\n",
    "print(weekly_avg)  # Output the resampled weekly average values\n"
   ],
   "id": "66ceb6da40272365",
   "outputs": [
    {
     "name": "stdout",
     "output_type": "stream",
     "text": [
      "            Sleep Hours  Work Hours  Screen Time  Productivity Score\n",
      "Date                                                                \n",
      "2025-01-05     7.760000    7.540000     5.760000           77.000000\n",
      "2025-01-12     8.085714    7.885714     6.157143           75.285714\n",
      "2025-01-19     8.114286    8.314286     6.271429           82.428571\n",
      "2025-01-26     7.728571    7.571429     6.714286           73.857143\n",
      "2025-02-02     6.700000    8.028571     5.442857           79.000000\n",
      "2025-02-09     7.328571    8.671429     5.971429           78.714286\n",
      "2025-02-16     7.914286    8.085714     6.614286           76.142857\n",
      "2025-02-23     7.614286    8.042857     5.942857           80.000000\n",
      "2025-03-02     7.642857    7.957143     6.542857           86.714286\n",
      "2025-03-09     7.300000    8.414286     5.642857           72.714286\n",
      "2025-03-16     7.242857    8.471429     5.671429           87.571429\n",
      "2025-03-23     7.414286    7.742857     6.414286           74.428571\n",
      "2025-03-30     7.785714    7.971429     5.500000           75.285714\n",
      "2025-04-06     6.400000   10.000000     7.000000           86.000000\n"
     ]
    }
   ],
   "execution_count": 64
  },
  {
   "metadata": {},
   "cell_type": "markdown",
   "source": "### Correlation Matrix and Heatmap",
   "id": "60f09c09bec603de"
  },
  {
   "metadata": {
    "ExecuteTime": {
     "end_time": "2025-05-13T10:16:18.906342Z",
     "start_time": "2025-05-13T10:16:18.645744Z"
    }
   },
   "cell_type": "code",
   "source": [
    "# Step 1: Calculate the Correlation Matrix\n",
    "# ----------------------------------------\n",
    "# The `df.corr()` function calculates the correlation matrix of all numeric columns\n",
    "# in the DataFrame `df`. This matrix shows how each variable is correlated with others.\n",
    "correlation_matrix = df.corr()\n",
    "\n",
    "# Step 2: Create a Figure for the Heatmap\n",
    "# --------------------------------------\n",
    "# The `plt.figure()` function creates a new figure for the heatmap plot.\n",
    "# We set the figure size to (10, 8) to make it more readable and spacious.\n",
    "plt.figure(figsize=(10, 8))\n",
    "\n",
    "# Step 3: Plot the Correlation Matrix as a Heatmap\n",
    "# ------------------------------------------------\n",
    "# The `plt.matshow()` function is used to display the correlation matrix as a heatmap.\n",
    "# We use the 'coolwarm' colormap to represent the correlation values.\n",
    "# Red represents strong positive correlation, and blue represents strong negative correlation.\n",
    "plt.matshow(correlation_matrix, cmap='coolwarm')\n",
    "\n",
    "# Step 4: Add Color Bar\n",
    "# ---------------------\n",
    "# The color bar provides the scale for the correlation values shown on the heatmap.\n",
    "# It helps interpret the color range and the corresponding correlation values.\n",
    "plt.colorbar()\n",
    "\n",
    "# Step 5: Save the Heatmap as an Image\n",
    "# ------------------------------------\n",
    "# The `plt.savefig()` function saves the heatmap as a .png image file.\n",
    "# You can change the file name and format (e.g., .jpg, .pdf) if needed.\n",
    "plt.savefig('correlation_matrix_heatmap.png')\n",
    "\n",
    "# Step 6: Display the Heatmap\n",
    "# ---------------------------\n",
    "# Finally, the `plt.show()` function displays the heatmap on the screen.\n",
    "# This is used to visualize the plot in your environment.\n",
    "plt.show()\n"
   ],
   "id": "c0f334c6a5c82ca8",
   "outputs": [
    {
     "data": {
      "text/plain": [
       "<Figure size 1000x800 with 0 Axes>"
      ]
     },
     "metadata": {},
     "output_type": "display_data"
    },
    {
     "data": {
      "text/plain": [
       "<Figure size 480x480 with 2 Axes>"
      ],
      "image/png": "[encoded data removed]"
     },
     "metadata": {},
     "output_type": "display_data"
    }
   ],
   "execution_count": 65
  },
  {
   "metadata": {},
   "cell_type": "markdown",
   "source": "### Scatter Plot: Screen Time vs Productivity",
   "id": "cdb511393e073101"
  },
  {
   "metadata": {
    "ExecuteTime": {
     "end_time": "2025-05-13T10:16:19.209464Z",
     "start_time": "2025-05-13T10:16:18.940195Z"
    }
   },
   "cell_type": "code",
   "source": [
    "# Step 1: Extract the Data for Plotting\n",
    "# -------------------------------------\n",
    "# We are extracting the 'Screen Time' and 'Productivity Score' columns\n",
    "# from the DataFrame `df` to plot them on the x and y axes, respectively.\n",
    "screen_time = df['Screen Time']\n",
    "productivity_score = df['Productivity Score']\n",
    "\n",
    "# Step 2: Create a Scatter Plot\n",
    "# -----------------------------\n",
    "# The `plt.scatter()` function creates a scatter plot,\n",
    "# plotting the 'Screen Time' on the x-axis and 'Productivity Score' on the y-axis.\n",
    "# This helps visualize the relationship between these two variables.\n",
    "plt.scatter(screen_time, productivity_score)\n",
    "\n",
    "# Step 3: Save the Plot as an Image\n",
    "# ---------------------------------\n",
    "# The `plt.savefig()` function saves the scatter plot as a .png image file.\n",
    "# You can change the filename or file extension (e.g., .jpg, .pdf) as needed.\n",
    "plt.savefig('scatter_plot.png')\n",
    "\n",
    "# Step 4: Display the Plot\n",
    "# ------------------------\n",
    "# Finally, we use `plt.show()` to display the scatter plot on the screen.\n",
    "plt.show()\n"
   ],
   "id": "53137c6e432da924",
   "outputs": [
    {
     "data": {
      "text/plain": [
       "<Figure size 640x480 with 1 Axes>"
      ],
      "image/png": "[encoded data removed]"
     },
     "metadata": {},
     "output_type": "display_data"
    }
   ],
   "execution_count": 66
  },
  {
   "metadata": {},
   "cell_type": "markdown",
   "source": "###  Box Plots for Variability",
   "id": "ea0a3d9f339538bb"
  },
  {
   "metadata": {
    "ExecuteTime": {
     "end_time": "2025-05-13T10:18:27.560228Z",
     "start_time": "2025-05-13T10:18:27.362223Z"
    }
   },
   "cell_type": "code",
   "source": [
    "import matplotlib.pyplot as plt\n",
    "\n",
    "# Select the relevant columns\n",
    "data = [df['Sleep Hours'], df['Work Hours'], df['Screen Time'], df['Productivity Score']]\n",
    "\n",
    "# Create the box plot\n",
    "plt.figure(figsize=(10, 6))\n",
    "plt.boxplot(data,  tick_labels=['Sleep Hours', 'Work Hours', 'Screen Time', 'Productivity Score'])\n",
    "\n",
    "# Set title and labels\n",
    "plt.title('Distribution of Daily Habits')\n",
    "plt.ylabel('Values')\n",
    "plt.grid(True)\n",
    "\n",
    "# Show the plot\n",
    "plt.show()\n"
   ],
   "id": "87ef2e9c5c54217",
   "outputs": [
    {
     "data": {
      "text/plain": [
       "<Figure size 1000x600 with 1 Axes>"
      ],
      "image/png": "[encoded data removed]"
     },
     "metadata": {},
     "output_type": "display_data"
    }
   ],
   "execution_count": 71
  },
  {
   "metadata": {
    "ExecuteTime": {
     "end_time": "2025-05-13T10:16:19.480405Z",
     "start_time": "2025-05-13T10:16:19.464479Z"
    }
   },
   "cell_type": "code",
   "source": "",
   "id": "cac3e763c896355d",
   "outputs": [],
   "execution_count": null
  }
 ],
 "metadata": {
  "kernelspec": {
   "display_name": "Python 3",
   "language": "python",
   "name": "python3"
  },
  "language_info": {
   "codemirror_mode": {
    "name": "ipython",
    "version": 2
   },
   "file_extension": ".py",
   "mimetype": "text/x-python",
   "name": "python",
   "nbconvert_exporter": "python",
   "pygments_lexer": "ipython2",
   "version": "2.7.6"
  }
 },
 "nbformat": 4,
 "nbformat_minor": 5
}
